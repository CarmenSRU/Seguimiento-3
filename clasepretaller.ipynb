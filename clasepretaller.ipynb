{
 "cells": [
  {
   "cell_type": "code",
   "execution_count": 1,
   "id": "5bebf9a8",
   "metadata": {},
   "outputs": [],
   "source": [
    "import numpy as np\n",
    "import matplotlib.pyplot as plt\n",
    "import pandas as pd\n",
    "import seaborn as sns\n",
    "from scipy import stats \n",
    "from statsmodels.sandbox.stats.runs import runstest_1samp # para la prueba Runs \n",
    "from statsmodels.formula.api import ols #modelo lineal del ANOVA\n",
    "import statsmodels.api as sm #para generar la tabla anova\n",
    "from tabulate import tabulate # para tabular los dataframe\n",
    "from statsmodels.stats.multicomp import pairwise_tukeyhsd# pruba de comparaciones multiples \n",
    "from scipy.stats import norm\n",
    "from statsmodels.graphics.tsaplots import plot_acf"
   ]
  },
  {
   "cell_type": "code",
   "execution_count": 4,
   "id": "51308e11",
   "metadata": {},
   "outputs": [],
   "source": [
    "\n",
    "def test_normalityKS(data, variable): # Pruaba de Normalidad Kolmogorov-Smirnof \n",
    "    \"\"\"\n",
    "    data: arreglo de datos a evaluar la normalidad\n",
    "    variable: string con el nombre de la variable \n",
    "    \"\"\"  \n",
    "    print(f\"\\n Análisis de normalidad por Kolmogorov-Smirnov para '{variable}'\")\n",
    "\n",
    "    # Kolmogorov-Smirnov (KS) test\n",
    "    ks_stat, ks_p = stats.kstest(data, 'norm', args=(np.mean(data), np.std(data)))\n",
    "    print(f\" Estadístico = {ks_stat:.4f}, p-valor = {ks_p:.4f}\")\n",
    "\n",
    "def test_normalitySW(data, variable): # Prueba de Normalizas Shapiro-Wilks \n",
    "    \"\"\"\n",
    "    data: arreglo de datos a evaluar la normalidad\n",
    "    variable: string con el nombre de la variable \n",
    "    \"\"\"\n",
    "    print(f\"\\n Análisis de normalidad por Shapiro-Wilk para '{variable}'\")\n",
    "    # Shapiro-Wilk test\n",
    "    shapiro_stat, shapiro_p = stats.shapiro(data)\n",
    "    print(f\"Estadístico = {shapiro_stat:.4f}, p-valor = {shapiro_p:.4f}\")\n",
    "    \n",
    "def random_test(residuos):\n",
    "    \"\"\"\n",
    "    Parameters\n",
    "    ----------\n",
    "    residuos : Array\n",
    "        DESCRIPTION: Residuos del ANOVA \n",
    "\n",
    "    Returns\n",
    "    -------\n",
    "    None.\n",
    "\n",
    "    \"\"\"\n",
    "    _, p_runs = runstest_1samp(residuos, correction=False)\n",
    "\n",
    "    print(f\"Prueba de Runs: p-valor={p_runs}\")\n",
    "    \n",
    "def test_homogeneityL(var1, var2, name1, name2): # Prueba de levene\n",
    "    \"\"\"\n",
    "    var1 y var2: variables a las que se corroborará homocedasticidad \n",
    "    name1 y name2: strings con el nombre de las variables\n",
    "    \"\"\"\n",
    "    print(f\"\\n Análisis de homocedasticidad entre '{name1}' y '{name2}'\")\n",
    "\n",
    "    # Prueba de Levene (no asume normalidad)\n",
    "    levene_stat, levene_p = stats.levene(var1, var2)\n",
    "    print(f\"Levene test: Estadístico = {levene_stat:.4f}, p-valor = {levene_p:.4f}\")\n",
    "\n",
    "def t_test_one(data,mu,variable): #Prueba T para una muestra\n",
    "    \"\"\"\n",
    "    data: arreglo de datos a comparar\n",
    "    mu: media poblacional o valor de referencia \n",
    "    variable: string con el nombre de la variable que se está comparando\n",
    "    \"\"\"\n",
    "    print(f\"Prueba T para una sola muestra para {variable}\")\n",
    "    t_stat, p_value = stats.ttest_1samp(data, mu)\n",
    "    print(f\"Estadístico = {t_stat:.4f}, valor_p = {p_value:.4f}\")\n",
    "    \n",
    "def box_cox(data): #transformación depotencia   \n",
    "\n",
    "    transformed_data, lambda_opt = stats.boxcox(data)\n",
    "    return transformed_data, lambda_opt\n",
    "\n",
    "def tukey(respuesta,factor, alfa,n_factor):\n",
    "    \"\"\"\n",
    "\n",
    "    Parameters\n",
    "    ----------\n",
    "    respuesta : Array\n",
    "        DESCRIPTION. Array con los datos de la variable respuesta\n",
    "    factor : Array\n",
    "        DESCRIPTION.Array con los niveles del factor \n",
    "    alfa : Float\n",
    "        DESCRIPTION. Valor alfa de comparación \n",
    "    n_factor : String\n",
    "        DESCRIPTION. Nombre del factor\n",
    "\n",
    "    Returns\n",
    "    -------\n",
    "    None.\n",
    "\n",
    "    \"\"\"\n",
    "    \n",
    "    tukey = pairwise_tukeyhsd(respuesta, factor, alpha=alfa)\n",
    "    print(f\"Prueba Tukey para el factor {n_factor}\")\n",
    "    print(tukey)\n",
    "    \n",
    "def kruskal_W(df,Respuesta,Factor):\n",
    "    \"\"\"\n",
    "    \n",
    "    Parameters\n",
    "    ----------\n",
    "    df : Data_Frame\n",
    "        DESCRIPTION. estructura con los datos del experimento\n",
    "    Respuesta : String\n",
    "        DESCRIPTION. nombre de la variable respuesta, key del dataframe\n",
    "    Factor : String\n",
    "        DESCRIPTION. nombre del factor, key del dataframe\n",
    "\n",
    "    Returns\n",
    "    -------\n",
    "    None.\n",
    "\n",
    "    \"\"\"\n",
    "    grupos_B = [df[Respuesta][df[Factor] == nivel] for nivel in df[Factor].unique()]\n",
    "    stat_B, p_B = stats.kruskal(*grupos_B)\n",
    "    print(f\"Kruskal-Wallis para {Factor}: H = {stat_B:.4f}, p = {p_B:.4f}\")\n",
    "    \n",
    "    \n",
    "def kruskal_interaccion(df,Respuesta,Factor1,Factor2):\n",
    "    \"\"\"\n",
    "    \n",
    "\n",
    "    Parameters\n",
    "    ----------\n",
    "    df : Data_Frame\n",
    "        DESCRIPTION. estructura con los datos del experimento\n",
    "    Respuesta : String\n",
    "        DESCRIPTION. nombre de la variable respuesta, key del dataframe\n",
    "    Factor1 : String\n",
    "        DESCRIPTION. nombre del factor1, key del dataframe\n",
    "    Factor2 : String\n",
    "        DESCRIPTION.nombre del factor12, key del dataframe\n",
    "\n",
    "    Returns\n",
    "    -------\n",
    "    None.\n",
    "\n",
    "    \"\"\"\n",
    "    \n",
    "    df['interaccion'] = df[Factor1].astype(str) + \"_\" + df[Factor2].astype(str) # se genera una columana con las combinaciones entre factores\n",
    "\n",
    "    grupos_interaccion = [df[Respuesta][df['interaccion'] == nivel] for nivel in df['interaccion'].unique()]\n",
    "    stat_int, p_int = stats.kruskal(*grupos_interaccion)\n",
    "    print(f\"Kruskal-Wallis para la interacción {Factor1}x{Factor2} p = {p_int:.4f}\")\n",
    "  "
   ]
  },
  {
   "cell_type": "markdown",
   "id": "9a9b07cc",
   "metadata": {},
   "source": [
    "### Leer datos estructurados"
   ]
  },
  {
   "cell_type": "code",
   "execution_count": 2,
   "id": "26f885a1",
   "metadata": {},
   "outputs": [],
   "source": [
    "df = pd.read_excel(\"3 factores.xlsx\")"
   ]
  },
  {
   "cell_type": "markdown",
   "id": "9015ea2b",
   "metadata": {},
   "source": [
    "### Normalidad"
   ]
  },
  {
   "cell_type": "code",
   "execution_count": 6,
   "id": "3af78f22",
   "metadata": {},
   "outputs": [
    {
     "name": "stdout",
     "output_type": "stream",
     "text": [
      "\n",
      " Análisis de normalidad por Shapiro-Wilk para 'Variable Respuesta'\n",
      "Estadístico = 0.9516, p-valor = 0.0462\n"
     ]
    }
   ],
   "source": [
    "#%% Supuesto de normalidad de la variable respuesta\n",
    "test_normalitySW(df['conductividad'],'Variable Respuesta')"
   ]
  },
  {
   "cell_type": "markdown",
   "id": "392f9a8f",
   "metadata": {},
   "source": [
    "### Transformación"
   ]
  },
  {
   "cell_type": "code",
   "execution_count": 7,
   "id": "eff4eab4",
   "metadata": {},
   "outputs": [
    {
     "name": "stdout",
     "output_type": "stream",
     "text": [
      "\n",
      " Análisis de normalidad por Shapiro-Wilk para 'Variable Respuesta transformada'\n",
      "Estadístico = 0.9617, p-valor = 0.1181\n"
     ]
    }
   ],
   "source": [
    "#si no fuera normal haríamos una tranformación\n",
    "data_t, lambda_opt = box_cox(df['conductividad'])\n",
    "\n",
    "test_normalitySW(data_t,'Variable Respuesta transformada')"
   ]
  },
  {
   "cell_type": "markdown",
   "id": "f9f2caae",
   "metadata": {},
   "source": [
    "### Guardar en df"
   ]
  },
  {
   "cell_type": "code",
   "execution_count": 8,
   "id": "af1c5c08",
   "metadata": {},
   "outputs": [],
   "source": [
    "df['conductividad_t']=data_t"
   ]
  },
  {
   "cell_type": "markdown",
   "id": "97aceb67",
   "metadata": {},
   "source": [
    "### Homocedasticidad"
   ]
  },
  {
   "cell_type": "markdown",
   "id": "2d826d3d",
   "metadata": {},
   "source": [
    "##### Nivel 1"
   ]
  },
  {
   "cell_type": "code",
   "execution_count": null,
   "id": "032f1014",
   "metadata": {},
   "outputs": [
    {
     "name": "stdout",
     "output_type": "stream",
     "text": [
      "Levene test: p-valor = 0.7518\n"
     ]
    }
   ],
   "source": [
    "nivel1=df[df['acido']==0]['conductividad_t']\n",
    "nivel2=df[df['acido']==6]['conductividad_t']\n",
    "nivel3=df[df['acido']==12]['conductividad_t']\n",
    "nivel4=df[df['acido']==18]['conductividad_t']\n",
    "\n",
    "_, levene_p = stats.levene(nivel1,nivel2,nivel3,nivel4)\n",
    "print(f\"Levene test: p-valor = {levene_p:.4f}\")"
   ]
  },
  {
   "cell_type": "markdown",
   "id": "7c9abb26",
   "metadata": {},
   "source": [
    "##### Nivel 2"
   ]
  },
  {
   "cell_type": "code",
   "execution_count": 11,
   "id": "3d128f30",
   "metadata": {},
   "outputs": [
    {
     "name": "stdout",
     "output_type": "stream",
     "text": [
      "Levene test: p-valor = 0.2441\n"
     ]
    }
   ],
   "source": [
    "nivel1=df[df['sal']==0]['conductividad_t']\n",
    "nivel2=df[df['sal']==10]['conductividad_t']\n",
    "nivel3=df[df['sal']==20]['conductividad_t']\n",
    "\n",
    "_, levene_p = stats.levene(nivel1,nivel2,nivel3)\n",
    "print(f\"Levene test: p-valor = {levene_p:.4f}\")"
   ]
  },
  {
   "cell_type": "markdown",
   "id": "725091a2",
   "metadata": {},
   "source": [
    "##### Nivel 3"
   ]
  },
  {
   "cell_type": "code",
   "execution_count": 12,
   "id": "e01e7090",
   "metadata": {},
   "outputs": [
    {
     "name": "stdout",
     "output_type": "stream",
     "text": [
      "Levene test: p-valor = 0.2417\n"
     ]
    }
   ],
   "source": [
    "nivel1=df[df['temperatura']==80]['conductividad_t']\n",
    "nivel2=df[df['temperatura']==100]['conductividad_t']\n",
    "\n",
    "_, levene_p = stats.levene(nivel1,nivel2)\n",
    "print(f\"Levene test: p-valor = {levene_p:.4f}\")"
   ]
  },
  {
   "cell_type": "markdown",
   "id": "420b2ec7",
   "metadata": {},
   "source": [
    "### Modelo lineal"
   ]
  },
  {
   "cell_type": "code",
   "execution_count": null,
   "id": "96ba4b96",
   "metadata": {},
   "outputs": [],
   "source": [
    "# Los ANOVAS son modelos lineales, entonces se debe ajustar el modelo\n",
    "#se usa una codificación de efectos \n",
    "# No puede haber espacios en el nombre de las columnas\n",
    "# modelo = ols('conductividad_t ~ C(acido)+C(sal)+C(temperatura)+C(acido):C(sal)+C(sal):C(temperatura)+C(acido):C(temperatura)+C(acido):C(sal):C(temperatura)', data=df).fit()"
   ]
  },
  {
   "cell_type": "markdown",
   "id": "cd13e028",
   "metadata": {},
   "source": [
    "### Ver si son significativos o no"
   ]
  },
  {
   "cell_type": "code",
   "execution_count": 17,
   "id": "ed2fcf36",
   "metadata": {},
   "outputs": [
    {
     "name": "stdout",
     "output_type": "stream",
     "text": [
      "┏━━━━━━━━━━━━━━━━━━━━━━━━━━━━━━━━┳━━━━━━━━━━━━┳━━━━━━┳━━━━━━━━━━━━┳━━━━━━━━━━━━━━┓\n",
      "┃                                ┃     sum_sq ┃   df ┃          F ┃       PR(>F) ┃\n",
      "┣━━━━━━━━━━━━━━━━━━━━━━━━━━━━━━━━╋━━━━━━━━━━━━╋━━━━━━╋━━━━━━━━━━━━╋━━━━━━━━━━━━━━┫\n",
      "┃ Intercept                      ┃ 0.00360628 ┃    1 ┃   1.08187  ┃   0.308646   ┃\n",
      "┣━━━━━━━━━━━━━━━━━━━━━━━━━━━━━━━━╋━━━━━━━━━━━━╋━━━━━━╋━━━━━━━━━━━━╋━━━━━━━━━━━━━━┫\n",
      "┃ C(acido)                       ┃ 0.0718978  ┃    3 ┃   7.18967  ┃   0.00131489 ┃\n",
      "┣━━━━━━━━━━━━━━━━━━━━━━━━━━━━━━━━╋━━━━━━━━━━━━╋━━━━━━╋━━━━━━━━━━━━╋━━━━━━━━━━━━━━┫\n",
      "┃ C(sal)                         ┃ 0.00425008 ┃    2 ┃   0.637502 ┃   0.537329   ┃\n",
      "┣━━━━━━━━━━━━━━━━━━━━━━━━━━━━━━━━╋━━━━━━━━━━━━╋━━━━━━╋━━━━━━━━━━━━╋━━━━━━━━━━━━━━┫\n",
      "┃ C(temperatura)                 ┃ 0.0106797  ┃    1 ┃   3.20386  ┃   0.0860911  ┃\n",
      "┣━━━━━━━━━━━━━━━━━━━━━━━━━━━━━━━━╋━━━━━━━━━━━━╋━━━━━━╋━━━━━━━━━━━━╋━━━━━━━━━━━━━━┫\n",
      "┃ C(acido):C(sal)                ┃ 0.0127615  ┃    6 ┃   0.638064 ┃   0.698749   ┃\n",
      "┣━━━━━━━━━━━━━━━━━━━━━━━━━━━━━━━━╋━━━━━━━━━━━━╋━━━━━━╋━━━━━━━━━━━━╋━━━━━━━━━━━━━━┫\n",
      "┃ C(sal):C(temperatura)          ┃ 0.0195282  ┃    2 ┃   2.92918  ┃   0.0727348  ┃\n",
      "┣━━━━━━━━━━━━━━━━━━━━━━━━━━━━━━━━╋━━━━━━━━━━━━╋━━━━━━╋━━━━━━━━━━━━╋━━━━━━━━━━━━━━┫\n",
      "┃ C(acido):C(temperatura)        ┃ 0.0155105  ┃    3 ┃   1.55103  ┃   0.227132   ┃\n",
      "┣━━━━━━━━━━━━━━━━━━━━━━━━━━━━━━━━╋━━━━━━━━━━━━╋━━━━━━╋━━━━━━━━━━━━╋━━━━━━━━━━━━━━┫\n",
      "┃ C(acido):C(sal):C(temperatura) ┃ 0.0234132  ┃    6 ┃   1.17064  ┃   0.35442    ┃\n",
      "┣━━━━━━━━━━━━━━━━━━━━━━━━━━━━━━━━╋━━━━━━━━━━━━╋━━━━━━╋━━━━━━━━━━━━╋━━━━━━━━━━━━━━┫\n",
      "┃ Residual                       ┃ 0.0800012  ┃   24 ┃ nan        ┃ nan          ┃\n",
      "┗━━━━━━━━━━━━━━━━━━━━━━━━━━━━━━━━┻━━━━━━━━━━━━┻━━━━━━┻━━━━━━━━━━━━┻━━━━━━━━━━━━━━┛\n"
     ]
    }
   ],
   "source": [
    "anova_table = sm.stats.anova_lm(modelo, typ=3)\n",
    "# Mostrar resultados\n",
    "print(tabulate(anova_table,headers='keys',tablefmt='heavy_grid'))"
   ]
  },
  {
   "cell_type": "markdown",
   "id": "4d3cf2b5",
   "metadata": {},
   "source": [
    "Mayor p: menos significativo. Borrar acido : sal"
   ]
  },
  {
   "cell_type": "markdown",
   "id": "67227b34",
   "metadata": {},
   "source": [
    "Si fuera un efecto simple, no se puede sacar"
   ]
  },
  {
   "cell_type": "code",
   "execution_count": null,
   "id": "2114c272",
   "metadata": {},
   "outputs": [],
   "source": [
    "# modelo = ols('conductividad_t ~ C(acido)+C(sal)+C(temperatura)+C(sal):C(temperatura)+C(acido):C(temperatura)+C(acido):C(sal):C(temperatura)', data=df).fit()"
   ]
  },
  {
   "cell_type": "code",
   "execution_count": 20,
   "id": "8026bfae",
   "metadata": {},
   "outputs": [
    {
     "name": "stdout",
     "output_type": "stream",
     "text": [
      "┏━━━━━━━━━━━━━━━━━━━━━━━━━━━━━━━━┳━━━━━━━━━━━━┳━━━━━━┳━━━━━━━━━━━━┳━━━━━━━━━━━━━━┓\n",
      "┃                                ┃     sum_sq ┃   df ┃          F ┃       PR(>F) ┃\n",
      "┣━━━━━━━━━━━━━━━━━━━━━━━━━━━━━━━━╋━━━━━━━━━━━━╋━━━━━━╋━━━━━━━━━━━━╋━━━━━━━━━━━━━━┫\n",
      "┃ Intercept                      ┃ 0.00360628 ┃    1 ┃   1.08187  ┃   0.308646   ┃\n",
      "┣━━━━━━━━━━━━━━━━━━━━━━━━━━━━━━━━╋━━━━━━━━━━━━╋━━━━━━╋━━━━━━━━━━━━╋━━━━━━━━━━━━━━┫\n",
      "┃ C(acido)                       ┃ 0.0718978  ┃    3 ┃   7.18967  ┃   0.00131489 ┃\n",
      "┣━━━━━━━━━━━━━━━━━━━━━━━━━━━━━━━━╋━━━━━━━━━━━━╋━━━━━━╋━━━━━━━━━━━━╋━━━━━━━━━━━━━━┫\n",
      "┃ C(sal)                         ┃ 0.00425008 ┃    2 ┃   0.637502 ┃   0.537329   ┃\n",
      "┣━━━━━━━━━━━━━━━━━━━━━━━━━━━━━━━━╋━━━━━━━━━━━━╋━━━━━━╋━━━━━━━━━━━━╋━━━━━━━━━━━━━━┫\n",
      "┃ C(temperatura)                 ┃ 0.0106797  ┃    1 ┃   3.20386  ┃   0.0860911  ┃\n",
      "┣━━━━━━━━━━━━━━━━━━━━━━━━━━━━━━━━╋━━━━━━━━━━━━╋━━━━━━╋━━━━━━━━━━━━╋━━━━━━━━━━━━━━┫\n",
      "┃ C(sal):C(temperatura)          ┃ 0.0195282  ┃    2 ┃   2.92918  ┃   0.0727348  ┃\n",
      "┣━━━━━━━━━━━━━━━━━━━━━━━━━━━━━━━━╋━━━━━━━━━━━━╋━━━━━━╋━━━━━━━━━━━━╋━━━━━━━━━━━━━━┫\n",
      "┃ C(acido):C(temperatura)        ┃ 0.0155105  ┃    3 ┃   1.55103  ┃   0.227132   ┃\n",
      "┣━━━━━━━━━━━━━━━━━━━━━━━━━━━━━━━━╋━━━━━━━━━━━━╋━━━━━━╋━━━━━━━━━━━━╋━━━━━━━━━━━━━━┫\n",
      "┃ C(acido):C(sal):C(temperatura) ┃ 0.0418967  ┃   12 ┃   1.0474   ┃   0.441358   ┃\n",
      "┣━━━━━━━━━━━━━━━━━━━━━━━━━━━━━━━━╋━━━━━━━━━━━━╋━━━━━━╋━━━━━━━━━━━━╋━━━━━━━━━━━━━━┫\n",
      "┃ Residual                       ┃ 0.0800012  ┃   24 ┃ nan        ┃ nan          ┃\n",
      "┗━━━━━━━━━━━━━━━━━━━━━━━━━━━━━━━━┻━━━━━━━━━━━━┻━━━━━━┻━━━━━━━━━━━━┻━━━━━━━━━━━━━━┛\n"
     ]
    }
   ],
   "source": [
    "anova_table = sm.stats.anova_lm(modelo, typ=3)\n",
    "print(tabulate(anova_table,headers='keys',tablefmt='heavy_grid'))"
   ]
  },
  {
   "cell_type": "markdown",
   "id": "acec7481",
   "metadata": {},
   "source": [
    "No se puede sacar el sal solo, le sigue el triple"
   ]
  },
  {
   "cell_type": "code",
   "execution_count": 25,
   "id": "4a119726",
   "metadata": {},
   "outputs": [],
   "source": [
    "modelo = ols('conductividad_t ~ C(acido)+C(sal)+C(temperatura)+C(sal):C(temperatura)+C(acido):C(temperatura)', data=df).fit()"
   ]
  },
  {
   "cell_type": "code",
   "execution_count": 26,
   "id": "16808b48",
   "metadata": {},
   "outputs": [
    {
     "name": "stdout",
     "output_type": "stream",
     "text": [
      "┏━━━━━━━━━━━━━━━━━━━━━━━━━┳━━━━━━━━━━━━┳━━━━━━┳━━━━━━━━━━━━━━┳━━━━━━━━━━━━━━━┓\n",
      "┃                         ┃     sum_sq ┃   df ┃            F ┃        PR(>F) ┃\n",
      "┣━━━━━━━━━━━━━━━━━━━━━━━━━╋━━━━━━━━━━━━╋━━━━━━╋━━━━━━━━━━━━━━╋━━━━━━━━━━━━━━━┫\n",
      "┃ Intercept               ┃ 2.4889e-05 ┃    1 ┃   0.00735044 ┃   0.932152    ┃\n",
      "┣━━━━━━━━━━━━━━━━━━━━━━━━━╋━━━━━━━━━━━━╋━━━━━━╋━━━━━━━━━━━━━━╋━━━━━━━━━━━━━━━┫\n",
      "┃ C(acido)                ┃ 0.110452   ┃    3 ┃  10.8732     ┃   3.14047e-05 ┃\n",
      "┣━━━━━━━━━━━━━━━━━━━━━━━━━╋━━━━━━━━━━━━╋━━━━━━╋━━━━━━━━━━━━━━╋━━━━━━━━━━━━━━━┫\n",
      "┃ C(sal)                  ┃ 0.0677898  ┃    2 ┃  10.0101     ┃   0.000349323 ┃\n",
      "┣━━━━━━━━━━━━━━━━━━━━━━━━━╋━━━━━━━━━━━━╋━━━━━━╋━━━━━━━━━━━━━━╋━━━━━━━━━━━━━━━┫\n",
      "┃ C(temperatura)          ┃ 0.0009965  ┃    1 ┃   0.294295   ┃   0.590824    ┃\n",
      "┣━━━━━━━━━━━━━━━━━━━━━━━━━╋━━━━━━━━━━━━╋━━━━━━╋━━━━━━━━━━━━━━╋━━━━━━━━━━━━━━━┫\n",
      "┃ C(sal):C(temperatura)   ┃ 0.00533604 ┃    2 ┃   0.787943   ┃   0.462465    ┃\n",
      "┣━━━━━━━━━━━━━━━━━━━━━━━━━╋━━━━━━━━━━━━╋━━━━━━╋━━━━━━━━━━━━━━╋━━━━━━━━━━━━━━━┫\n",
      "┃ C(acido):C(temperatura) ┃ 0.00463953 ┃    3 ┃   0.456729   ┃   0.714192    ┃\n",
      "┣━━━━━━━━━━━━━━━━━━━━━━━━━╋━━━━━━━━━━━━╋━━━━━━╋━━━━━━━━━━━━━━╋━━━━━━━━━━━━━━━┫\n",
      "┃ Residual                ┃ 0.121898   ┃   36 ┃ nan          ┃ nan           ┃\n",
      "┗━━━━━━━━━━━━━━━━━━━━━━━━━┻━━━━━━━━━━━━┻━━━━━━┻━━━━━━━━━━━━━━┻━━━━━━━━━━━━━━━┛\n"
     ]
    }
   ],
   "source": [
    "anova_table = sm.stats.anova_lm(modelo, typ=3)\n",
    "print(tabulate(anova_table,headers='keys',tablefmt='heavy_grid'))"
   ]
  },
  {
   "cell_type": "code",
   "execution_count": null,
   "id": "c6ebe610",
   "metadata": {},
   "outputs": [],
   "source": [
    "# modelo = ols('conductividad_t ~ C(acido)+C(sal)+C(temperatura)', data=df).fit()"
   ]
  },
  {
   "cell_type": "code",
   "execution_count": 28,
   "id": "fa45ebbe",
   "metadata": {},
   "outputs": [
    {
     "name": "stdout",
     "output_type": "stream",
     "text": [
      "┏━━━━━━━━━━━━━━━━┳━━━━━━━━━━━━━┳━━━━━━┳━━━━━━━━━━━━━━━┳━━━━━━━━━━━━━━━┓\n",
      "┃                ┃      sum_sq ┃   df ┃             F ┃        PR(>F) ┃\n",
      "┣━━━━━━━━━━━━━━━━╋━━━━━━━━━━━━━╋━━━━━━╋━━━━━━━━━━━━━━━╋━━━━━━━━━━━━━━━┫\n",
      "┃ Intercept      ┃ 0.000505414 ┃    1 ┃   0.157135    ┃   0.693864    ┃\n",
      "┣━━━━━━━━━━━━━━━━╋━━━━━━━━━━━━━╋━━━━━━╋━━━━━━━━━━━━━━━╋━━━━━━━━━━━━━━━┫\n",
      "┃ C(acido)       ┃ 0.243181    ┃    3 ┃  25.202       ┃   2.09766e-09 ┃\n",
      "┣━━━━━━━━━━━━━━━━╋━━━━━━━━━━━━━╋━━━━━━╋━━━━━━━━━━━━━━━╋━━━━━━━━━━━━━━━┫\n",
      "┃ C(sal)         ┃ 0.178328    ┃    2 ┃  27.7214      ┃   2.424e-08   ┃\n",
      "┣━━━━━━━━━━━━━━━━╋━━━━━━━━━━━━━╋━━━━━━╋━━━━━━━━━━━━━━━╋━━━━━━━━━━━━━━━┫\n",
      "┃ C(temperatura) ┃ 3.1555e-07  ┃    1 ┃   9.81059e-05 ┃   0.992145    ┃\n",
      "┣━━━━━━━━━━━━━━━━╋━━━━━━━━━━━━━╋━━━━━━╋━━━━━━━━━━━━━━━╋━━━━━━━━━━━━━━━┫\n",
      "┃ Residual       ┃ 0.131874    ┃   41 ┃ nan           ┃ nan           ┃\n",
      "┗━━━━━━━━━━━━━━━━┻━━━━━━━━━━━━━┻━━━━━━┻━━━━━━━━━━━━━━━┻━━━━━━━━━━━━━━━┛\n"
     ]
    }
   ],
   "source": [
    "anova_table = sm.stats.anova_lm(modelo, typ=3)\n",
    "print(tabulate(anova_table,headers='keys',tablefmt='heavy_grid'))"
   ]
  },
  {
   "cell_type": "markdown",
   "id": "eeaa47d8",
   "metadata": {},
   "source": [
    "Ya se puede sacar la temperatura"
   ]
  },
  {
   "cell_type": "code",
   "execution_count": 29,
   "id": "0a9a59ea",
   "metadata": {},
   "outputs": [],
   "source": [
    "modelo = ols('conductividad_t ~ C(acido)+C(sal)', data=df).fit()"
   ]
  },
  {
   "cell_type": "code",
   "execution_count": 30,
   "id": "04791c14",
   "metadata": {},
   "outputs": [
    {
     "name": "stdout",
     "output_type": "stream",
     "text": [
      "┏━━━━━━━━━━━┳━━━━━━━━━━━━┳━━━━━━┳━━━━━━━━━━━━┳━━━━━━━━━━━━━━━┓\n",
      "┃           ┃     sum_sq ┃   df ┃          F ┃        PR(>F) ┃\n",
      "┣━━━━━━━━━━━╋━━━━━━━━━━━━╋━━━━━━╋━━━━━━━━━━━━╋━━━━━━━━━━━━━━━┫\n",
      "┃ Intercept ┃ 0.00060084 ┃    1 ┃   0.191359 ┃   0.664029    ┃\n",
      "┣━━━━━━━━━━━╋━━━━━━━━━━━━╋━━━━━━╋━━━━━━━━━━━━╋━━━━━━━━━━━━━━━┫\n",
      "┃ C(acido)  ┃ 0.243181   ┃    3 ┃  25.8166   ┃   1.25808e-09 ┃\n",
      "┣━━━━━━━━━━━╋━━━━━━━━━━━━╋━━━━━━╋━━━━━━━━━━━━╋━━━━━━━━━━━━━━━┫\n",
      "┃ C(sal)    ┃ 0.178328   ┃    2 ┃  28.3975   ┃   1.58053e-08 ┃\n",
      "┣━━━━━━━━━━━╋━━━━━━━━━━━━╋━━━━━━╋━━━━━━━━━━━━╋━━━━━━━━━━━━━━━┫\n",
      "┃ Residual  ┃ 0.131874   ┃   42 ┃ nan        ┃ nan           ┃\n",
      "┗━━━━━━━━━━━┻━━━━━━━━━━━━┻━━━━━━┻━━━━━━━━━━━━┻━━━━━━━━━━━━━━━┛\n"
     ]
    }
   ],
   "source": [
    "anova_table = sm.stats.anova_lm(modelo, typ=3)\n",
    "print(tabulate(anova_table,headers='keys',tablefmt='heavy_grid'))"
   ]
  },
  {
   "cell_type": "markdown",
   "id": "a1b7de7d",
   "metadata": {},
   "source": [
    "Ya todos son significativos"
   ]
  },
  {
   "cell_type": "markdown",
   "id": "1dcaba3c",
   "metadata": {},
   "source": [
    "### Supupestos posteriores"
   ]
  },
  {
   "cell_type": "markdown",
   "id": "89546cd1",
   "metadata": {},
   "source": [
    "##### Extraer residuos"
   ]
  },
  {
   "cell_type": "code",
   "execution_count": 31,
   "id": "16072d8d",
   "metadata": {},
   "outputs": [],
   "source": [
    "df['Residuos']=modelo.resid"
   ]
  },
  {
   "cell_type": "markdown",
   "id": "51bf56f9",
   "metadata": {},
   "source": [
    "##### Normalidad"
   ]
  },
  {
   "cell_type": "code",
   "execution_count": null,
   "id": "3076b0f5",
   "metadata": {},
   "outputs": [
    {
     "name": "stdout",
     "output_type": "stream",
     "text": [
      "\n",
      " Análisis de normalidad por Shapiro-Wilk para 'Residuos'\n",
      "Estadístico = 0.9876, p-valor = 0.8878\n",
      "Prueba T para una sola muestra para Residuos\n",
      "Estadístico = -0.0000, valor_p = 1.0000\n"
     ]
    }
   ],
   "source": [
    "test_normalitySW(df['Residuos'],'Residuos')"
   ]
  },
  {
   "cell_type": "markdown",
   "id": "3b7ce366",
   "metadata": {},
   "source": [
    "##### Ver la media = 0"
   ]
  },
  {
   "cell_type": "code",
   "execution_count": null,
   "id": "af931b8a",
   "metadata": {},
   "outputs": [],
   "source": [
    "t_test_one(df['Residuos'],0,\"Residuos\")"
   ]
  },
  {
   "cell_type": "markdown",
   "id": "d6d09bb0",
   "metadata": {},
   "source": [
    "Si son aleatorios"
   ]
  },
  {
   "cell_type": "code",
   "execution_count": 33,
   "id": "6d76eea7",
   "metadata": {},
   "outputs": [
    {
     "name": "stdout",
     "output_type": "stream",
     "text": [
      "Prueba de Runs: p-valor=0.6299044449375456\n"
     ]
    }
   ],
   "source": [
    "random_test(df['Residuos'])"
   ]
  },
  {
   "cell_type": "markdown",
   "id": "04715dbe",
   "metadata": {},
   "source": [
    "### Si cumple el anova"
   ]
  },
  {
   "cell_type": "markdown",
   "id": "507f8dfc",
   "metadata": {},
   "source": [
    "eee"
   ]
  }
 ],
 "metadata": {
  "kernelspec": {
   "display_name": "base",
   "language": "python",
   "name": "python3"
  },
  "language_info": {
   "codemirror_mode": {
    "name": "ipython",
    "version": 3
   },
   "file_extension": ".py",
   "mimetype": "text/x-python",
   "name": "python",
   "nbconvert_exporter": "python",
   "pygments_lexer": "ipython3",
   "version": "3.12.3"
  }
 },
 "nbformat": 4,
 "nbformat_minor": 5
}

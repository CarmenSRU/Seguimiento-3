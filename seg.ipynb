{
 "cells": [
  {
   "cell_type": "markdown",
   "id": "f62151f0",
   "metadata": {},
   "source": [
    "#### Integrantes"
   ]
  },
  {
   "cell_type": "markdown",
   "id": "611abf36",
   "metadata": {},
   "source": [
    "Daniela Donado Ravelo - \n",
    "Carmen Lucia Samaniego - \n",
    "Sofia Marcano Posada"
   ]
  },
  {
   "cell_type": "markdown",
   "id": "7411cf91",
   "metadata": {},
   "source": [
    "### Parte 1: Diseño de Experimentos: (50%)"
   ]
  },
  {
   "cell_type": "markdown",
   "id": "1fe263a4",
   "metadata": {},
   "source": [
    "##### ¿Cuál es la variable respuesta? Permeabilidad al vapor de agua de las películas"
   ]
  },
  {
   "cell_type": "markdown",
   "id": "e887a4ad",
   "metadata": {},
   "source": [
    "##### ¿Cuáles son los factores? Y ¿cuáles sus respectivos niveles?"
   ]
  },
  {
   "cell_type": "markdown",
   "id": "c8d08361",
   "metadata": {},
   "source": [
    "Factores: 3 en total"
   ]
  },
  {
   "cell_type": "markdown",
   "id": "66d3e359",
   "metadata": {},
   "source": [
    "Volumen vertido, concentración de genipina, y concentración de ácido esteárico "
   ]
  },
  {
   "cell_type": "markdown",
   "id": "4f888bd8",
   "metadata": {},
   "source": [
    "Niveles: "
   ]
  },
  {
   "cell_type": "markdown",
   "id": "1942e30f",
   "metadata": {},
   "source": [
    "Volúmenes utilizados: 20 mL, 30 mL, 40 mL: 3 niveles"
   ]
  },
  {
   "cell_type": "markdown",
   "id": "c6e67d57",
   "metadata": {},
   "source": [
    "Concentración de genipina: 1.5 %p/v, 3.0 %p/v: 2 niveles"
   ]
  },
  {
   "cell_type": "markdown",
   "id": "59af9dc4",
   "metadata": {},
   "source": [
    "Concentración de ácido esteárico: 5 %p/v, 10%p/v: 2 niveles"
   ]
  }
 ],
 "metadata": {
  "language_info": {
   "name": "python"
  }
 },
 "nbformat": 4,
 "nbformat_minor": 5
}

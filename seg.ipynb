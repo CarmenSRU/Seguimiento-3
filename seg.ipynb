{
 "cells": [
  {
   "cell_type": "markdown",
   "id": "f62151f0",
   "metadata": {},
   "source": [
    "#### Integrantes"
   ]
  },
  {
   "cell_type": "markdown",
   "id": "611abf36",
   "metadata": {},
   "source": [
    "Daniela Donado Ravelo - \n",
    "Carmen Lucia Samaniego - \n",
    "Sofia Marcano Posada"
   ]
  },
  {
   "cell_type": "markdown",
   "id": "7411cf91",
   "metadata": {},
   "source": [
    "### Parte 1: Diseño de Experimentos: (50%)"
   ]
  },
  {
   "cell_type": "markdown",
   "id": "1fe263a4",
   "metadata": {},
   "source": [
    "##### ¿Cuál es la variable respuesta? "
   ]
  }
 ],
 "metadata": {
  "language_info": {
   "name": "python"
  }
 },
 "nbformat": 4,
 "nbformat_minor": 5
}
